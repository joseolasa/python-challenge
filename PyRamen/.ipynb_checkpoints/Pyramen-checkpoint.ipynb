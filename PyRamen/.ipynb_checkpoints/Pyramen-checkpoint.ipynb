{
 "cells": [
  {
   "cell_type": "code",
   "execution_count": 1,
   "id": "bbda3ec3-e451-425c-9fc2-533238371dae",
   "metadata": {},
   "outputs": [],
   "source": [
    "import csv\n",
    "from pathlib import Path"
   ]
  },
  {
   "cell_type": "code",
   "execution_count": 2,
   "id": "d77168a6-95f4-4630-ac2f-407c90339334",
   "metadata": {},
   "outputs": [],
   "source": [
    "menu_file= Path(\"Resources/menu_data.csv\")\n",
    "sales_file = Path(\"Resources/sales_data.csv\")"
   ]
  },
  {
   "cell_type": "code",
   "execution_count": 3,
   "id": "40bb0ad7-9e2a-4834-8d6b-e1cb7f7ebca1",
   "metadata": {},
   "outputs": [],
   "source": [
    "#menu csv read\n",
    "menu=[]\n",
    "menu_header =[]\n",
    "m_line=0\n",
    "\n",
    "with open(menu_file,'r') as MenuCsv:\n",
    "    \n",
    "    csvreader = csv.reader(MenuCsv,delimiter = \",\")\n",
    "    \n",
    "    menu_header = next(csvreader)\n",
    "    m_line += 1\n",
    "    for row in csvreader:\n",
    "        menu.append(row)\n",
    "        m_line += 1"
   ]
  },
  {
   "cell_type": "code",
   "execution_count": 4,
   "id": "dae08b93-36ef-4c9d-8fc9-23ad1900f36f",
   "metadata": {},
   "outputs": [],
   "source": [
    "#menu csv read\n",
    "sales=[]\n",
    "sales_header =[]\n",
    "s_line = 0\n",
    "\n",
    "with open(sales_file,'r') as SalesCsv:\n",
    "    \n",
    "    csvreader = csv.reader(SalesCsv,delimiter = \",\")\n",
    "    \n",
    "    sales_header = next(csvreader)\n",
    "    s_line += 1\n",
    "    for row in csvreader:\n",
    "        sales.append(row)\n",
    "        s_line += 1\n",
    "      "
   ]
  },
  {
   "cell_type": "code",
   "execution_count": 5,
   "id": "9241f827-ae37-4194-9776-c565b0d80c46",
   "metadata": {},
   "outputs": [],
   "source": [
    "#report"
   ]
  },
  {
   "cell_type": "code",
   "execution_count": 21,
   "id": "6d9dde71-6388-4608-b9d3-a15447b294d9",
   "metadata": {},
   "outputs": [
    {
     "name": "stdout",
     "output_type": "stream",
     "text": [
      "spicy miso ramen\n",
      "tori paitan ramen\n",
      "truffle butter ramen\n",
      "tonkotsu ramen\n",
      "vegetarian spicy miso\n",
      "shio ramen\n",
      "miso crab ramen\n",
      "nagomi shoyu\n",
      "soft-shell miso crab ramen\n",
      "burnt garlic tonkotsu ramen\n",
      "vegetarian curry + king trumpet mushroom ramen\n"
     ]
    }
   ],
   "source": [
    "report = {}\n",
    "for sales_items in sales:\n",
    "    qty = int(sales_items[3])\n",
    "    menu_item = sales_items[4]\n",
    "    \n",
    "    if report.get(menu_item) == None:\n",
    "        print(menu_item)\n",
    "        report[menu_item] = { \"01- count\": 0, \"02- revenue\":0,\"03- cogs\":  0, \"04- profit\":0}\n",
    "        \n",
    "    \n",
    "    for i in menu:\n",
    "        item = i[0]\n",
    "        price = float(i[3])\n",
    "        cost = float(i[4])\n",
    "        profit = price - cost\n",
    "        \n",
    "        if item == menu_item:\n",
    "            report[item][\"01- count\"] += qty\n",
    "            report[item][\"02- revenue\"] += qty * price \n",
    "            report[item][\"03- cogs\"] += qty * cost\n",
    "            report[item][\"04- profit\"] += qty* profit\n",
    "    "
   ]
  },
  {
   "cell_type": "code",
   "execution_count": 22,
   "id": "1d117cdc-f82e-40b4-b5cf-523f2d88a1e9",
   "metadata": {},
   "outputs": [
    {
     "name": "stdout",
     "output_type": "stream",
     "text": [
      "{'spicy miso ramen': {'01- count': 9238, '02- revenue': 110856.0, '03- cogs': 46190.0, '04- profit': 64666.0}, 'tori paitan ramen': {'01- count': 9156, '02- revenue': 119028.0, '03- cogs': 54936.0, '04- profit': 64092.0}, 'truffle butter ramen': {'01- count': 8982, '02- revenue': 125748.0, '03- cogs': 62874.0, '04- profit': 62874.0}, 'tonkotsu ramen': {'01- count': 9288, '02- revenue': 120744.0, '03- cogs': 55728.0, '04- profit': 65016.0}, 'vegetarian spicy miso': {'01- count': 9216, '02- revenue': 110592.0, '03- cogs': 46080.0, '04- profit': 64512.0}, 'shio ramen': {'01- count': 9180, '02- revenue': 100980.0, '03- cogs': 45900.0, '04- profit': 55080.0}, 'miso crab ramen': {'01- count': 8890, '02- revenue': 106680.0, '03- cogs': 53340.0, '04- profit': 53340.0}, 'nagomi shoyu': {'01- count': 9132, '02- revenue': 100452.0, '03- cogs': 45660.0, '04- profit': 54792.0}, 'soft-shell miso crab ramen': {'01- count': 9130, '02- revenue': 127820.0, '03- cogs': 63910.0, '04- profit': 63910.0}, 'burnt garlic tonkotsu ramen': {'01- count': 9070, '02- revenue': 126980.0, '03- cogs': 54420.0, '04- profit': 72560.0}, 'vegetarian curry + king trumpet mushroom ramen': {'01- count': 8824, '02- revenue': 114712.0, '03- cogs': 61768.0, '04- profit': 52944.0}}\n"
     ]
    }
   ],
   "source": [
    "print(report)"
   ]
  },
  {
   "cell_type": "code",
   "execution_count": null,
   "id": "0084aac8-1039-4e31-9ab5-1f3e6816a3cc",
   "metadata": {},
   "outputs": [],
   "source": []
  }
 ],
 "metadata": {
  "kernelspec": {
   "display_name": "Python 3 (ipykernel)",
   "language": "python",
   "name": "python3"
  },
  "language_info": {
   "codemirror_mode": {
    "name": "ipython",
    "version": 3
   },
   "file_extension": ".py",
   "mimetype": "text/x-python",
   "name": "python",
   "nbconvert_exporter": "python",
   "pygments_lexer": "ipython3",
   "version": "3.7.13"
  }
 },
 "nbformat": 4,
 "nbformat_minor": 5
}

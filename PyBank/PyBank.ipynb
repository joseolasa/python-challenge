{
 "cells": [
  {
   "cell_type": "code",
   "execution_count": 2,
   "id": "4b5e7b3f-1bd7-41bb-8865-6326e1a07cce",
   "metadata": {},
   "outputs": [],
   "source": [
    "#pybank"
   ]
  },
  {
   "cell_type": "code",
   "execution_count": 3,
   "id": "5165ca35-0f80-451d-9b22-42d437d37f8d",
   "metadata": {},
   "outputs": [],
   "source": [
    "from pathlib import Path\n",
    "import csv"
   ]
  },
  {
   "cell_type": "code",
   "execution_count": 19,
   "id": "5bf59968-f6c9-4f13-9cb8-6852559c4502",
   "metadata": {},
   "outputs": [],
   "source": [
    "#setting file path\n",
    "filepath = Path(\"Resources/budget_data.csv\")"
   ]
  },
  {
   "cell_type": "code",
   "execution_count": 26,
   "id": "f2039abb-9d39-4f65-87b0-d5f984a58ff1",
   "metadata": {},
   "outputs": [],
   "source": [
    "#setting up variables\n",
    "header = []\n",
    "monthcount = 0\n",
    "max_profit =0\n",
    "max_profit_month = \"BLANK\"\n",
    "min_profit =0\n",
    "min_profit_month = \"BLANK\"\n",
    "total_profit = 0\n",
    "t_0=0\n",
    "t_1=0\n",
    "change_p_L= 0\n",
    "sum_change=0"
   ]
  },
  {
   "cell_type": "code",
   "execution_count": 27,
   "id": "61f20d43-9ea6-4ba7-a475-14d72dfadcca",
   "metadata": {},
   "outputs": [],
   "source": [
    "#import data\n",
    "with open(filepath, 'r') as csvfile :\n",
    "    #csv reader\n",
    "    csvreader= csv.reader(csvfile, delimiter = \",\")\n",
    "    header = next(csvreader)\n",
    "    \n",
    "    for row in csvreader:\n",
    "        #count months\n",
    "       \n",
    "        #parse data\n",
    "        month_id= row[0]\n",
    "        P_L = int(row[1])\n",
    "        total_profit += P_L\n",
    "        #logic for max and min P/L\n",
    "        if P_L> max_profit:\n",
    "            max_profit = P_L\n",
    "            max_profit_month = month_id\n",
    "            \n",
    "        if P_L< min_profit:\n",
    "            min_profit = P_L\n",
    "            min_profit_month = month_id\n",
    "            \n",
    "        if monthcount == 0:\n",
    "            t_0=P_L\n",
    "            #print(0)\n",
    "        else:\n",
    "            t_1=P_L\n",
    "            change_p_L= t_1 - t_0\n",
    "            #print(change_p_L)\n",
    "            sum_change += change_p_L\n",
    "            t_0=t_1\n",
    "        \n",
    "        monthcount += 1\n",
    "    \n",
    "    \n",
    "    "
   ]
  },
  {
   "cell_type": "code",
   "execution_count": 28,
   "id": "e72d9730-7f11-4909-be94-38f48dfc5a5e",
   "metadata": {},
   "outputs": [],
   "source": [
    "#calculate avg P/L \n",
    "avg_P_L = sum_change/(monthcount-1)"
   ]
  },
  {
   "cell_type": "code",
   "execution_count": 29,
   "id": "6a407ba8-75e1-4f9e-80a3-52d9a8346121",
   "metadata": {},
   "outputs": [
    {
     "name": "stdout",
     "output_type": "stream",
     "text": [
      "Financial Analysis\n",
      "\n",
      "------------------\n",
      "\n",
      "Total Months: 86 months\n",
      "\n",
      "Total : $38382578\n",
      "\n",
      "Average Change: $-2315.12\n",
      "\n",
      "Greatest Increase in Profits: Feb-2012 (1170593)\n",
      "\n",
      "Greatest Decrease in Profits: Sep-2013 (-1196225)\n",
      "\n"
     ]
    }
   ],
   "source": [
    "#print output\n",
    "print(\"Financial Analysis\\n\")\n",
    "print(\"------------------\\n\")\n",
    "print(f\"Total Months: {monthcount} months\\n\")\n",
    "print(f\"Total : ${total_profit:.0f}\\n\")\n",
    "print(f\"Average Change: ${avg_P_L:.2f}\\n\")\n",
    "print(f\"Greatest Increase in Profits: {max_profit_month} ({max_profit})\\n\")\n",
    "print(f\"Greatest Decrease in Profits: {min_profit_month} ({min_profit})\\n\")    "
   ]
  },
  {
   "cell_type": "code",
   "execution_count": null,
   "id": "77a17ed9-3476-4c76-8ed7-7fa3c65c2d3e",
   "metadata": {},
   "outputs": [],
   "source": []
  },
  {
   "cell_type": "code",
   "execution_count": null,
   "id": "9be8e6d0-dc35-4b7a-ae21-4befe93f7f44",
   "metadata": {},
   "outputs": [],
   "source": []
  }
 ],
 "metadata": {
  "kernelspec": {
   "display_name": "Python 3 (ipykernel)",
   "language": "python",
   "name": "python3"
  },
  "language_info": {
   "codemirror_mode": {
    "name": "ipython",
    "version": 3
   },
   "file_extension": ".py",
   "mimetype": "text/x-python",
   "name": "python",
   "nbconvert_exporter": "python",
   "pygments_lexer": "ipython3",
   "version": "3.9.12"
  }
 },
 "nbformat": 4,
 "nbformat_minor": 5
}
